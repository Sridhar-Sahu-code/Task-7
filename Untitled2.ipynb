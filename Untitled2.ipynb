{
 "cells": [
  {
   "cell_type": "code",
   "execution_count": 20,
   "id": "24a0b908-c8d0-4f1b-8bf5-6320da1cdb88",
   "metadata": {},
   "outputs": [],
   "source": [
    "import sqlite3\n",
    "\n",
    "# Connect to your database\n",
    "conn = sqlite3.connect('sales_data.db')\n",
    "cursor = conn.cursor()\n",
    "\n",
    "# Drop the table if it exists\n",
    "cursor.execute(\"DROP TABLE IF EXISTS sales\")\n",
    "\n",
    "# Recreate the table with the correct schema\n",
    "cursor.execute('''\n",
    "    CREATE TABLE sales (\n",
    "        sales_id INTEGER PRIMARY KEY,\n",
    "        product TEXT,\n",
    "        quantity INTEGER,\n",
    "        price INTEGER,\n",
    "        revenue INTEGER\n",
    "    )\n",
    "''')\n",
    "\n",
    "# Insert data again\n",
    "cursor.execute('''\n",
    "    INSERT INTO sales (sales_id, product, quantity, price, revenue)\n",
    "    VALUES (?, ?, ?, ?, ?)\n",
    "''', (1, 'Laptop', 2, 1000, 2000))\n",
    "\n",
    "data = [\n",
    "    (2, 'Smartphone', 3, 500, 1500),\n",
    "    (3, 'Tablet', 5, 300, 1500),\n",
    "    (4, 'Monitor', 1, 200, 200),\n",
    "    (5, 'Keyboard', 4, 50, 200)\n",
    "]\n",
    "\n",
    "cursor.executemany('''\n",
    "    INSERT INTO sales (sales_id, product, quantity, price, revenue)\n",
    "    VALUES (?, ?, ?, ?, ?)\n",
    "''', data)\n",
    "\n",
    "conn.commit()\n",
    "conn.close()"
   ]
  },
  {
   "cell_type": "code",
   "execution_count": 21,
   "id": "09a3ce1a-5992-4933-8136-e76d56ca1d56",
   "metadata": {},
   "outputs": [],
   "source": [
    "conn = sqlite3.connect('new_sales_data.db')"
   ]
  },
  {
   "cell_type": "code",
   "execution_count": 22,
   "id": "3cb171e7-4a34-443d-872c-ed6e7a8d1418",
   "metadata": {},
   "outputs": [
    {
     "name": "stdout",
     "output_type": "stream",
     "text": [
      "   sales_id     product  quantity  price  revenue\n",
      "0         1      Laptop         2   1000     2000\n",
      "1         2  Smartphone         3    500     1500\n",
      "2         3      Tablet         5    300     1500\n",
      "3         4     Monitor         1    200      200\n",
      "4         5    Keyboard         4     50      200\n"
     ]
    }
   ],
   "source": [
    "import pandas as pd\n",
    "\n",
    "# Connect to the database\n",
    "conn = sqlite3.connect('sales_data.db')\n",
    "\n",
    "# Load the table into a DataFrame\n",
    "df = pd.read_sql_query(\"SELECT * FROM sales\", conn)\n",
    "\n",
    "# Display the DataFrame\n",
    "print(df)\n",
    "\n",
    "# Close the connection\n",
    "conn.close()"
   ]
  },
  {
   "cell_type": "code",
   "execution_count": 23,
   "id": "aedb399c-9adb-4e97-9e16-cda4ab24d5eb",
   "metadata": {},
   "outputs": [
    {
     "data": {
      "text/html": [
       "<style type=\"text/css\">\n",
       "</style>\n",
       "<table id=\"T_9ba45\">\n",
       "  <thead>\n",
       "    <tr>\n",
       "      <th id=\"T_9ba45_level0_col0\" class=\"col_heading level0 col0\" >sales_id</th>\n",
       "      <th id=\"T_9ba45_level0_col1\" class=\"col_heading level0 col1\" >product</th>\n",
       "      <th id=\"T_9ba45_level0_col2\" class=\"col_heading level0 col2\" >quantity</th>\n",
       "      <th id=\"T_9ba45_level0_col3\" class=\"col_heading level0 col3\" >price</th>\n",
       "      <th id=\"T_9ba45_level0_col4\" class=\"col_heading level0 col4\" >revenue</th>\n",
       "    </tr>\n",
       "  </thead>\n",
       "  <tbody>\n",
       "    <tr>\n",
       "      <td id=\"T_9ba45_row0_col0\" class=\"data row0 col0\" >1</td>\n",
       "      <td id=\"T_9ba45_row0_col1\" class=\"data row0 col1\" >Laptop</td>\n",
       "      <td id=\"T_9ba45_row0_col2\" class=\"data row0 col2\" >2</td>\n",
       "      <td id=\"T_9ba45_row0_col3\" class=\"data row0 col3\" >1000</td>\n",
       "      <td id=\"T_9ba45_row0_col4\" class=\"data row0 col4\" >2000</td>\n",
       "    </tr>\n",
       "    <tr>\n",
       "      <td id=\"T_9ba45_row1_col0\" class=\"data row1 col0\" >2</td>\n",
       "      <td id=\"T_9ba45_row1_col1\" class=\"data row1 col1\" >Smartphone</td>\n",
       "      <td id=\"T_9ba45_row1_col2\" class=\"data row1 col2\" >3</td>\n",
       "      <td id=\"T_9ba45_row1_col3\" class=\"data row1 col3\" >500</td>\n",
       "      <td id=\"T_9ba45_row1_col4\" class=\"data row1 col4\" >1500</td>\n",
       "    </tr>\n",
       "    <tr>\n",
       "      <td id=\"T_9ba45_row2_col0\" class=\"data row2 col0\" >3</td>\n",
       "      <td id=\"T_9ba45_row2_col1\" class=\"data row2 col1\" >Tablet</td>\n",
       "      <td id=\"T_9ba45_row2_col2\" class=\"data row2 col2\" >5</td>\n",
       "      <td id=\"T_9ba45_row2_col3\" class=\"data row2 col3\" >300</td>\n",
       "      <td id=\"T_9ba45_row2_col4\" class=\"data row2 col4\" >1500</td>\n",
       "    </tr>\n",
       "    <tr>\n",
       "      <td id=\"T_9ba45_row3_col0\" class=\"data row3 col0\" >4</td>\n",
       "      <td id=\"T_9ba45_row3_col1\" class=\"data row3 col1\" >Monitor</td>\n",
       "      <td id=\"T_9ba45_row3_col2\" class=\"data row3 col2\" >1</td>\n",
       "      <td id=\"T_9ba45_row3_col3\" class=\"data row3 col3\" >200</td>\n",
       "      <td id=\"T_9ba45_row3_col4\" class=\"data row3 col4\" >200</td>\n",
       "    </tr>\n",
       "    <tr>\n",
       "      <td id=\"T_9ba45_row4_col0\" class=\"data row4 col0\" >5</td>\n",
       "      <td id=\"T_9ba45_row4_col1\" class=\"data row4 col1\" >Keyboard</td>\n",
       "      <td id=\"T_9ba45_row4_col2\" class=\"data row4 col2\" >4</td>\n",
       "      <td id=\"T_9ba45_row4_col3\" class=\"data row4 col3\" >50</td>\n",
       "      <td id=\"T_9ba45_row4_col4\" class=\"data row4 col4\" >200</td>\n",
       "    </tr>\n",
       "  </tbody>\n",
       "</table>\n"
      ],
      "text/plain": [
       "<pandas.io.formats.style.Styler at 0x28b0656f1d0>"
      ]
     },
     "metadata": {},
     "output_type": "display_data"
    }
   ],
   "source": [
    "from IPython.display import display\n",
    "\n",
    "display(df.style.hide(axis=\"index\"))"
   ]
  },
  {
   "cell_type": "code",
   "execution_count": 24,
   "id": "eb0e03f6-6d48-4a2e-989b-14a06c12170f",
   "metadata": {},
   "outputs": [],
   "source": [
    "# Step 4: Run the GROUP BY query\n",
    "query = '''\n",
    "SELECT \n",
    "    product, \n",
    "    SUM(quantity) AS total_qty, \n",
    "    SUM(quantity * price) AS revenue\n",
    "FROM sales\n",
    "GROUP BY product\n",
    "'''"
   ]
  },
  {
   "cell_type": "code",
   "execution_count": 26,
   "id": "04364d4b-21d4-405d-bd20-48e6a9f9f2a3",
   "metadata": {},
   "outputs": [
    {
     "data": {
      "text/html": [
       "<div>\n",
       "<style scoped>\n",
       "    .dataframe tbody tr th:only-of-type {\n",
       "        vertical-align: middle;\n",
       "    }\n",
       "\n",
       "    .dataframe tbody tr th {\n",
       "        vertical-align: top;\n",
       "    }\n",
       "\n",
       "    .dataframe thead th {\n",
       "        text-align: right;\n",
       "    }\n",
       "</style>\n",
       "<table border=\"1\" class=\"dataframe\">\n",
       "  <thead>\n",
       "    <tr style=\"text-align: right;\">\n",
       "      <th></th>\n",
       "      <th>sales_id</th>\n",
       "      <th>product</th>\n",
       "      <th>quantity</th>\n",
       "      <th>price</th>\n",
       "      <th>revenue</th>\n",
       "    </tr>\n",
       "  </thead>\n",
       "  <tbody>\n",
       "    <tr>\n",
       "      <th>0</th>\n",
       "      <td>1</td>\n",
       "      <td>Laptop</td>\n",
       "      <td>2</td>\n",
       "      <td>1000</td>\n",
       "      <td>2000</td>\n",
       "    </tr>\n",
       "    <tr>\n",
       "      <th>1</th>\n",
       "      <td>2</td>\n",
       "      <td>Smartphone</td>\n",
       "      <td>3</td>\n",
       "      <td>500</td>\n",
       "      <td>1500</td>\n",
       "    </tr>\n",
       "    <tr>\n",
       "      <th>2</th>\n",
       "      <td>3</td>\n",
       "      <td>Tablet</td>\n",
       "      <td>5</td>\n",
       "      <td>300</td>\n",
       "      <td>1500</td>\n",
       "    </tr>\n",
       "    <tr>\n",
       "      <th>3</th>\n",
       "      <td>4</td>\n",
       "      <td>Monitor</td>\n",
       "      <td>1</td>\n",
       "      <td>200</td>\n",
       "      <td>200</td>\n",
       "    </tr>\n",
       "    <tr>\n",
       "      <th>4</th>\n",
       "      <td>5</td>\n",
       "      <td>Keyboard</td>\n",
       "      <td>4</td>\n",
       "      <td>50</td>\n",
       "      <td>200</td>\n",
       "    </tr>\n",
       "  </tbody>\n",
       "</table>\n",
       "</div>"
      ],
      "text/plain": [
       "   sales_id     product  quantity  price  revenue\n",
       "0         1      Laptop         2   1000     2000\n",
       "1         2  Smartphone         3    500     1500\n",
       "2         3      Tablet         5    300     1500\n",
       "3         4     Monitor         1    200      200\n",
       "4         5    Keyboard         4     50      200"
      ]
     },
     "execution_count": 26,
     "metadata": {},
     "output_type": "execute_result"
    }
   ],
   "source": [
    "import pandas as pd\n",
    "df"
   ]
  },
  {
   "cell_type": "code",
   "execution_count": 12,
   "id": "f28cdc41-1877-407e-9425-3cdcef7dd530",
   "metadata": {},
   "outputs": [],
   "source": [
    "query = '''\n",
    "SELECT \n",
    "    product, \n",
    "    SUM(quantity) AS total_qty, \n",
    "    SUM(quantity * price) AS revenue \n",
    "FROM sales \n",
    "GROUP BY product\n",
    "'''"
   ]
  },
  {
   "cell_type": "code",
   "execution_count": 14,
   "id": "b30f1306-0f2f-4b97-8c9d-a9d0ea4faae7",
   "metadata": {},
   "outputs": [
    {
     "data": {
      "image/png": "[encoded data removed]",
      "text/plain": [
       "<Figure size 640x480 with 1 Axes>"
      ]
     },
     "metadata": {},
     "output_type": "display_data"
    }
   ],
   "source": [
    "import sqlite3\n",
    "import pandas as pd\n",
    "import matplotlib.pyplot as plt\n",
    "\n",
    "# Sample data\n",
    "data = [\n",
    "    (1, 'Laptop', 2, 1000, 2000),\n",
    "    (2, 'Smartphone', 3, 500, 1500),\n",
    "    (3, 'Tablet', 5, 300, 1500),\n",
    "    (4, 'Monitor', 1, 200, 200),\n",
    "    (5, 'Keyboard', 4, 50, 200)\n",
    "]\n",
    "\n",
    "# Create SQLite connection\n",
    "conn = sqlite3.connect(':memory:')\n",
    "\n",
    "# Create table and insert data\n",
    "conn.execute('''\n",
    "    CREATE TABLE sales (\n",
    "        sales_id INTEGER,\n",
    "        product TEXT,\n",
    "        quantity INTEGER,\n",
    "        price INTEGER,\n",
    "        revenue INTEGER\n",
    "    )\n",
    "''')\n",
    "conn.executemany('INSERT INTO sales VALUES (?, ?, ?, ?, ?)', data)\n",
    "conn.commit()\n",
    "\n",
    "# SQL query\n",
    "query = '''\n",
    "SELECT \n",
    "    product, \n",
    "    SUM(quantity) AS total_qty, \n",
    "    SUM(quantity * price) AS revenue \n",
    "FROM sales \n",
    "GROUP BY product\n",
    "'''\n",
    "\n",
    "# Read into DataFrame\n",
    "df = pd.read_sql_query(query, conn)\n",
    "\n",
    "# Plot bar chart\n",
    "df.plot(kind='bar', x='product', y='revenue', legend=False)\n",
    "plt.title('Revenue by Product')\n",
    "plt.xlabel('Product')\n",
    "plt.ylabel('Revenue')\n",
    "plt.xticks(rotation=45)\n",
    "plt.tight_layout()\n",
    "plt.show()"
   ]
  },
  {
   "cell_type": "code",
   "execution_count": 15,
   "id": "a828a3b1-03da-4ceb-bca7-cf76d33babff",
   "metadata": {},
   "outputs": [
    {
     "data": {
      "text/plain": [
       "<Figure size 640x480 with 0 Axes>"
      ]
     },
     "metadata": {},
     "output_type": "display_data"
    }
   ],
   "source": [
    "plt.savefig(\"sales_chart.png\")"
   ]
  },
  {
   "cell_type": "code",
   "execution_count": 16,
   "id": "72e14ca8-c212-481d-ba5c-9e322126ec88",
   "metadata": {},
   "outputs": [],
   "source": [
    "plt.show()"
   ]
  },
  {
   "cell_type": "code",
   "execution_count": null,
   "id": "3b2413da-2167-4899-97cf-5018b6cf46d6",
   "metadata": {},
   "outputs": [],
   "source": []
  }
 ],
 "metadata": {
  "kernelspec": {
   "display_name": "Python 3 (ipykernel)",
   "language": "python",
   "name": "python3"
  },
  "language_info": {
   "codemirror_mode": {
    "name": "ipython",
    "version": 3
   },
   "file_extension": ".py",
   "mimetype": "text/x-python",
   "name": "python",
   "nbconvert_exporter": "python",
   "pygments_lexer": "ipython3",
   "version": "3.12.7"
  }
 },
 "nbformat": 4,
 "nbformat_minor": 5
}
